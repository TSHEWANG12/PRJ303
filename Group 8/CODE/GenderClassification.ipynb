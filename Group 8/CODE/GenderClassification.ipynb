{
  "cells": [
    {
      "cell_type": "code",
      "execution_count": null,
      "metadata": {
        "colab": {
          "base_uri": "https://localhost:8080/"
        },
        "id": "ZIaSDUYDCSzB",
        "outputId": "c0f8a210-9afb-40ab-b321-9c46217835df"
      },
      "outputs": [
        {
          "output_type": "stream",
          "name": "stdout",
          "text": [
            "Drive already mounted at /content/drive; to attempt to forcibly remount, call drive.mount(\"/content/drive\", force_remount=True).\n"
          ]
        }
      ],
      "source": [
        "from google.colab import drive\n",
        "drive.mount('/content/drive') "
      ]
    },
    {
      "cell_type": "code",
      "execution_count": null,
      "metadata": {
        "id": "0MOL5rDeXGgt"
      },
      "outputs": [],
      "source": [
        ""
      ]
    },
    {
      "cell_type": "code",
      "execution_count": null,
      "metadata": {
        "id": "5Vn6xo3WXWWm"
      },
      "outputs": [],
      "source": [
        "DATA_PATH = \"/content/drive/MyDrive/Dataset/\""
      ]
    },
    {
      "cell_type": "markdown",
      "metadata": {
        "id": "DIc8NhSHcNXR"
      },
      "source": [
        "Importing libraries\n",
        "\n",
        "\n",
        "\n"
      ]
    },
    {
      "cell_type": "code",
      "execution_count": null,
      "metadata": {
        "id": "w0a83dQ-bbg3"
      },
      "outputs": [],
      "source": [
        "import tensorflow as tf\n",
        "from tensorflow.keras.callbacks import EarlyStopping\n",
        "from tensorflow.keras.preprocessing.image import ImageDataGenerator\n",
        "from tensorflow.keras.layers import Input, Dense, Flatten, Dropout, Conv2D, MaxPool2D, BatchNormalization, Activation\n",
        "from tensorflow.keras import Model\n",
        "from tensorflow.keras.models import Sequential\n",
        "from tensorflow.keras.optimizers import SGD\n",
        "from tensorflow.keras.callbacks import EarlyStopping\n",
        "from matplotlib import pyplot as plt"
      ]
    },
    {
      "cell_type": "code",
      "execution_count": null,
      "metadata": {
        "id": "K1DarkXmcfYb"
      },
      "outputs": [],
      "source": [
        "train_datagen = ImageDataGenerator( # https://www.tensorflow.org/api_docs/python/tf/keras/preprocessing/image/ImageDataGenerator\n",
        "  rescale = 1./255,\n",
        "  shear_range=0.1,\n",
        "  rotation_range=5, \n",
        "  zoom_range = 0.1,\n",
        "  width_shift_range=0.1, \n",
        "  height_shift_range=0.1,  \n",
        "  horizontal_flip=True,\n",
        "  vertical_flip=False\n",
        ")\n",
        "\n",
        "test_datagen = ImageDataGenerator(\n",
        "   rescale = 1./255 \n",
        ")"
      ]
    },
    {
      "cell_type": "code",
      "source": [
        "def attribute():\n",
        "  target_size = (224, 224),\n",
        "  color_mode = 'rgb',\n",
        "  classes = ['Male', 'Female'],\n",
        "  class_mode = 'binary', #2=binary\n",
        "  batch_size = 30, #good processing 64\n",
        "attribute()\n"
      ],
      "metadata": {
        "id": "ujZJBPuJy3RE"
      },
      "execution_count": null,
      "outputs": []
    },
    {
      "cell_type": "code",
      "execution_count": null,
      "metadata": {
        "colab": {
          "base_uri": "https://localhost:8080/"
        },
        "id": "moZPXI0FiAl3",
        "outputId": "4ce2f3b6-d37b-459b-8e0c-e517e78e14b3"
      },
      "outputs": [
        {
          "output_type": "stream",
          "name": "stdout",
          "text": [
            "Found 4000 images belonging to 2 classes.\n"
          ]
        }
      ],
      "source": [
        "# https://www.tensorflow.org/api_docs/python/tf/keras/preprocessing/image/ImageDataGenerator#flow_from_directory\n",
        "train_data = train_datagen.flow_from_directory(\n",
        "  DATA_PATH+'train',\n",
        "  target_size = (224, 224),\n",
        "  color_mode = 'rgb',\n",
        "  classes = ['Male', 'Female'],\n",
        "  class_mode = 'binary', #2=binary\n",
        "  batch_size = 30, #good processing 64\n",
        "  shuffle = True #\n",
        ")"
      ]
    },
    {
      "cell_type": "code",
      "execution_count": null,
      "metadata": {
        "colab": {
          "base_uri": "https://localhost:8080/"
        },
        "id": "UTegX3wIlb9F",
        "outputId": "8939c95c-f53d-4862-b15e-a1952218a5fa"
      },
      "outputs": [
        {
          "output_type": "stream",
          "name": "stdout",
          "text": [
            "Found 1000 images belonging to 2 classes.\n"
          ]
        }
      ],
      "source": [
        "test_data = test_datagen.flow_from_directory(\n",
        "  DATA_PATH+'val',\n",
        "  target_size = (224, 224),#same size like train\n",
        "  color_mode = 'rgb',\n",
        "  classes = ['Male', 'Female'],\n",
        "  class_mode = 'binary',\n",
        "  batch_size = 30,\n",
        ")"
      ]
    },
    {
      "cell_type": "markdown",
      "source": [
        "# Modeling"
      ],
      "metadata": {
        "id": "QVchGHWvvqDZ"
      }
    },
    {
      "cell_type": "code",
      "execution_count": null,
      "metadata": {
        "id": "sNYzYpfflkMe"
      },
      "outputs": [],
      "source": [
        "model = Sequential()\n",
        "#adding \n",
        "model.add(Conv2D(filters = 32, kernel_size = (5,5), padding = 'Same', activation ='relu', input_shape = (224, 224, 3)))\n",
        "model.add(MaxPool2D(pool_size=(2,2)))\n",
        "\n",
        "model.add(Conv2D(filters = 64, kernel_size = (3,3), padding = 'Same', activation ='relu'))\n",
        "model.add(MaxPool2D(pool_size=(2,2), strides=(2,2)))\n",
        "\n",
        "model.add(Conv2D(filters = 64, kernel_size = (3,3), padding = 'Same', activation ='relu'))\n",
        "model.add(MaxPool2D(pool_size=(2,2), strides=(2,2)))\n",
        "\n",
        "    \n",
        "model.add(Conv2D(filters =128, kernel_size = (3,3), padding = 'Same', activation ='relu'))\n",
        "model.add(MaxPool2D(pool_size=(2,2), strides=(2,2)))\n",
        "\n",
        "\n",
        "model.add(Conv2D(filters = 128, kernel_size = (3,3), padding = 'Same', activation ='relu'))\n",
        "model.add(MaxPool2D(pool_size=(2,2), strides=(2,2)))\n",
        "  \n",
        "# Fully Connected Layer\n",
        "model.add(Flatten())\n",
        "model.add(Dense(64))\n",
        "model.add(Activation('relu'))\n",
        "model.add(Dense(2, activation = \"softmax\"))#3 is no. of class"
      ]
    },
    {
      "cell_type": "code",
      "execution_count": null,
      "metadata": {
        "colab": {
          "base_uri": "https://localhost:8080/"
        },
        "id": "f2fw42NLlrxQ",
        "outputId": "3fa5ea35-0226-40be-a297-43cfef7a97f2"
      },
      "outputs": [
        {
          "output_type": "stream",
          "name": "stdout",
          "text": [
            "Model: \"sequential\"\n",
            "_________________________________________________________________\n",
            " Layer (type)                Output Shape              Param #   \n",
            "=================================================================\n",
            " conv2d (Conv2D)             (None, 224, 224, 32)      2432      \n",
            "                                                                 \n",
            " max_pooling2d (MaxPooling2D  (None, 112, 112, 32)     0         \n",
            " )                                                               \n",
            "                                                                 \n",
            " conv2d_1 (Conv2D)           (None, 112, 112, 64)      18496     \n",
            "                                                                 \n",
            " max_pooling2d_1 (MaxPooling  (None, 56, 56, 64)       0         \n",
            " 2D)                                                             \n",
            "                                                                 \n",
            " conv2d_2 (Conv2D)           (None, 56, 56, 64)        36928     \n",
            "                                                                 \n",
            " max_pooling2d_2 (MaxPooling  (None, 28, 28, 64)       0         \n",
            " 2D)                                                             \n",
            "                                                                 \n",
            " conv2d_3 (Conv2D)           (None, 28, 28, 128)       73856     \n",
            "                                                                 \n",
            " max_pooling2d_3 (MaxPooling  (None, 14, 14, 128)      0         \n",
            " 2D)                                                             \n",
            "                                                                 \n",
            " conv2d_4 (Conv2D)           (None, 14, 14, 128)       147584    \n",
            "                                                                 \n",
            " max_pooling2d_4 (MaxPooling  (None, 7, 7, 128)        0         \n",
            " 2D)                                                             \n",
            "                                                                 \n",
            " flatten (Flatten)           (None, 6272)              0         \n",
            "                                                                 \n",
            " dense (Dense)               (None, 64)                401472    \n",
            "                                                                 \n",
            " activation (Activation)     (None, 64)                0         \n",
            "                                                                 \n",
            " dense_1 (Dense)             (None, 2)                 130       \n",
            "                                                                 \n",
            "=================================================================\n",
            "Total params: 680,898\n",
            "Trainable params: 680,898\n",
            "Non-trainable params: 0\n",
            "_________________________________________________________________\n"
          ]
        }
      ],
      "source": [
        "model.summary()"
      ]
    },
    {
      "cell_type": "code",
      "execution_count": null,
      "metadata": {
        "id": "U-zyGYA7l1A5"
      },
      "outputs": [],
      "source": [
        "# Model Callback - Stop the training when no learning is taking place\n",
        "early_stop = EarlyStopping(monitor='val_loss', patience=3)#loss decrease and train increase\n",
        "callbacks_list = [early_stop]"
      ]
    },
    {
      "cell_type": "code",
      "execution_count": null,
      "metadata": {
        "id": "lrhlXsjLl65G"
      },
      "outputs": [],
      "source": [
        "# Compile the model\n",
        "model.compile(optimizer = 'adam', loss = tf.keras.losses.SparseCategoricalCrossentropy(from_logits=True), metrics = ['accuracy'])"
      ]
    },
    {
      "cell_type": "code",
      "execution_count": null,
      "metadata": {
        "colab": {
          "base_uri": "https://localhost:8080/"
        },
        "id": "9M61xHjZl9x3",
        "outputId": "61dc0e39-4c73-40ad-d87c-499864eb9de5"
      },
      "outputs": [
        {
          "output_type": "stream",
          "name": "stdout",
          "text": [
            "Epoch 1/10\n"
          ]
        },
        {
          "output_type": "stream",
          "name": "stderr",
          "text": [
            "/usr/local/lib/python3.7/dist-packages/tensorflow/python/util/dispatch.py:1082: UserWarning: \"`sparse_categorical_crossentropy` received `from_logits=True`, but the `output` argument was produced by a sigmoid or softmax activation and thus does not represent logits. Was this intended?\"\n",
            "  return dispatch_target(*args, **kwargs)\n"
          ]
        },
        {
          "output_type": "stream",
          "name": "stdout",
          "text": [
            "134/134 [==============================] - 2466s 18s/step - loss: 0.6186 - accuracy: 0.6465 - val_loss: 0.5018 - val_accuracy: 0.7910\n",
            "Epoch 2/10\n",
            "134/134 [==============================] - 66s 493ms/step - loss: 0.5067 - accuracy: 0.7630 - val_loss: 0.4382 - val_accuracy: 0.8090\n",
            "Epoch 3/10\n",
            "134/134 [==============================] - 66s 495ms/step - loss: 0.4733 - accuracy: 0.7862 - val_loss: 0.5048 - val_accuracy: 0.7760\n",
            "Epoch 4/10\n",
            "134/134 [==============================] - 67s 496ms/step - loss: 0.4121 - accuracy: 0.8198 - val_loss: 0.3031 - val_accuracy: 0.8780\n",
            "Epoch 5/10\n",
            "134/134 [==============================] - 66s 494ms/step - loss: 0.2806 - accuracy: 0.8815 - val_loss: 0.2388 - val_accuracy: 0.9130\n",
            "Epoch 6/10\n",
            "134/134 [==============================] - 66s 494ms/step - loss: 0.2434 - accuracy: 0.9025 - val_loss: 0.2176 - val_accuracy: 0.9170\n",
            "Epoch 7/10\n",
            "134/134 [==============================] - 66s 495ms/step - loss: 0.2100 - accuracy: 0.9195 - val_loss: 0.1837 - val_accuracy: 0.9330\n",
            "Epoch 8/10\n",
            "134/134 [==============================] - 66s 494ms/step - loss: 0.1933 - accuracy: 0.9222 - val_loss: 0.1931 - val_accuracy: 0.9300\n",
            "Epoch 9/10\n",
            "134/134 [==============================] - 67s 496ms/step - loss: 0.1782 - accuracy: 0.9220 - val_loss: 0.1846 - val_accuracy: 0.9220\n",
            "Epoch 10/10\n",
            "134/134 [==============================] - 66s 494ms/step - loss: 0.1758 - accuracy: 0.9317 - val_loss: 0.1504 - val_accuracy: 0.9380\n"
          ]
        }
      ],
      "source": [
        "history = model.fit(\n",
        "    train_data,\n",
        "    # Number of batches for training\n",
        "    steps_per_epoch = len(train_data), \n",
        "    validation_data = test_data,\n",
        "    # Number of batches for testing\n",
        "    validation_steps = len(test_data),\n",
        "    epochs = 10,\n",
        "    callbacks = callbacks_list,\n",
        ")"
      ]
    },
    {
      "cell_type": "code",
      "execution_count": null,
      "metadata": {
        "colab": {
          "base_uri": "https://localhost:8080/"
        },
        "id": "MmJD1LydmGJX",
        "outputId": "db373d35-5f1f-4125-e03c-6c45b6d95e5d"
      },
      "outputs": [
        {
          "output_type": "stream",
          "name": "stdout",
          "text": [
            "[INFO] accuracies....\n",
            "134/134 [==============================] - 60s 449ms/step - loss: 0.1573 - accuracy: 0.9398\n",
            "Train Accuracy: 93.98%\n",
            "34/34 [==============================] - 4s 106ms/step - loss: 0.1504 - accuracy: 0.9380\n",
            "Test Accuracy: 93.80%\n"
          ]
        }
      ],
      "source": [
        "print(\"[INFO] accuracies....\")\n",
        "# Train accuracy\n",
        "scores = model.evaluate(train_data, steps=len(train_data), verbose=1)\n",
        "print(\"Train Accuracy: %.2f%%\" % (scores[1]*100))\n",
        "\n",
        "# Test accuracy\n",
        "scores = model.evaluate(test_data, steps=len(test_data), verbose=1)\n",
        "print(\"Test Accuracy: %.2f%%\" % (scores[1]*100))"
      ]
    },
    {
      "cell_type": "code",
      "execution_count": null,
      "metadata": {
        "colab": {
          "base_uri": "https://localhost:8080/",
          "height": 682
        },
        "id": "_jGlnlEFmNM7",
        "outputId": "cd0c357b-1e0c-4b59-bb70-0511e94add90"
      },
      "outputs": [
        {
          "output_type": "display_data",
          "data": {
            "text/plain": [
              "<Figure size 432x288 with 1 Axes>"
            ],
            "image/png": "[encoded data removed]"
          },
          "metadata": {
            "needs_background": "light"
          }
        },
        {
          "output_type": "display_data",
          "data": {
            "text/plain": [
              "<Figure size 576x432 with 1 Axes>"
            ],
            "image/png": "[encoded data removed]"
          },
          "metadata": {
            "needs_background": "light"
          }
        }
      ],
      "source": [
        "import numpy as np\n",
        "plt.figure(0)\n",
        "plt.plot(history.history['accuracy'],'r')\n",
        "plt.plot(history.history['val_accuracy'],'g')\n",
        "plt.xticks(np.arange(0, 50, 2))\n",
        "plt.rcParams['figure.figsize'] = (8, 6)\n",
        "plt.xlabel(\"Num of Epochs\")\n",
        "plt.ylabel(\"Accuracy\")\n",
        "plt.title(\"Training Accuracy vs Validation Accuracy\")\n",
        "plt.legend(['train','validation'])\n",
        "\n",
        "plt.figure(1)\n",
        "plt.plot(history.history['loss'],'r')\n",
        "plt.plot(history.history['val_loss'],'g')\n",
        "plt.xticks(np.arange(0,50, 2))\n",
        "plt.rcParams['figure.figsize'] = (8, 6)\n",
        "plt.xlabel(\"Num of Epochs\")\n",
        "plt.ylabel(\"Loss\")\n",
        "plt.title(\"Training Loss vs Validation Loss\")\n",
        "plt.legend(['train','validation'])\n",
        "\n",
        "plt.show()"
      ]
    },
    {
      "cell_type": "code",
      "execution_count": null,
      "metadata": {
        "colab": {
          "base_uri": "https://localhost:8080/"
        },
        "id": "VPQ96TyzJk7Q",
        "outputId": "2ed3439c-bf64-4020-9d3d-0a16538ccf91"
      },
      "outputs": [
        {
          "output_type": "stream",
          "name": "stdout",
          "text": [
            "[[1. 0.]]\n",
            "prediction:  Male\n"
          ]
        }
      ],
      "source": [
        "from keras.preprocessing import image\n",
        "from google.colab.patches import cv_imshow\n",
        "import numpy as np\n",
        "img_pred=image.load_img('/content/drive/MyDrive/Dataset/val/Male/000904.jpg',target_size=(224,224))\n",
        "\n",
        "img_pred=image.img_to_array(img_pred)\n",
        "img_pred=np.expand_dims(img_pred,axis=0)\n",
        "\n",
        "rslt = model.predict(img_pred)\n",
        "print(rslt)\n",
        "prediction=\" \"\n",
        "if rslt[0][0]==1:\n",
        "  prediction = \"Male\"\n",
        "else:\n",
        "  prediction = \"Female\"\n",
        "print(\"prediction: \",prediction)\n",
        "\n"
      ]
    }
  ],
  "metadata": {
    "accelerator": "GPU",
    "colab": {
      "collapsed_sections": [],
      "name": "GenderClassification",
      "provenance": []
    },
    "kernelspec": {
      "display_name": "Python 3",
      "name": "python3"
    },
    "language_info": {
      "name": "python"
    }
  },
  "nbformat": 4,
  "nbformat_minor": 0
}